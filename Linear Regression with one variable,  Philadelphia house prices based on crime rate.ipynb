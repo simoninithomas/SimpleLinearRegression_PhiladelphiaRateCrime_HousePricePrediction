{
 "cells": [
  {
   "cell_type": "markdown",
   "metadata": {},
   "source": [
    "<h1>Linear regression with one variable </h1>"
   ]
  },
  {
   "cell_type": "markdown",
   "metadata": {},
   "source": [
    "<h2>Predicting Philadelphia' houses prices related to crime rate</h2>"
   ]
  },
  {
   "cell_type": "markdown",
   "metadata": {},
   "source": [
    "We want to predict the price of an house in Philadelphia area based on crime rate.</br> "
   ]
  },
  {
   "cell_type": "markdown",
   "metadata": {},
   "source": [
    "@author: SIMONINI Thomas </br>"
   ]
  },
  {
   "cell_type": "markdown",
   "metadata": {},
   "source": [
    "<p>Data used : <a href=\"https://www.opendataphilly.org/\">Open data philly</a></p>"
   ]
  },
  {
   "cell_type": "markdown",
   "metadata": {},
   "source": [
    "<a href=\"www.github.com/simoninithomas\">Github</a></br>"
   ]
  },
  {
   "cell_type": "markdown",
   "metadata": {},
   "source": [
    "<a href=\"http://www.simoninithomas.com\">My Professional website </a></br>"
   ]
  },
  {
   "cell_type": "markdown",
   "metadata": {},
   "source": [
    "<h3>Step 1 : Import the libraries </h3>"
   ]
  },
  {
   "cell_type": "markdown",
   "metadata": {},
   "source": [
    "We'll use :\n",
    "    - Pandas as a data analysis.\n",
    "    - Matplot as our 2D plotting library.\n",
    "    - Sklearn as our Machine Learning library.\n",
    "    - Numpy as a scientific computing in Python. "
   ]
  },
  {
   "cell_type": "code",
   "execution_count": 3,
   "metadata": {
    "collapsed": true
   },
   "outputs": [],
   "source": [
    "import pandas as pd\n",
    "import matplotlib.pyplot as plt\n",
    "import numpy as np\n",
    "from sklearn import linear_model\n",
    "from sklearn.cross_validation import train_test_split"
   ]
  },
  {
   "cell_type": "markdown",
   "metadata": {},
   "source": [
    "<h3>Step 2 : Gather the data</h3>"
   ]
  },
  {
   "cell_type": "code",
   "execution_count": 5,
   "metadata": {
    "collapsed": false
   },
   "outputs": [
    {
     "name": "stdout",
     "output_type": "stream",
     "text": [
      "    HousePrice  HsPrc ($10,000)  CrimeRate  MilesPhila  PopChg  \\\n",
      "0       140463          14.0463       29.7        10.0    -1.0   \n",
      "1       113033          11.3033       24.1        18.0     4.0   \n",
      "2       124186          12.4186       19.5        25.0     8.0   \n",
      "3       110490          11.0490       49.4        25.0     2.7   \n",
      "4        79124           7.9124       54.1        19.0     3.9   \n",
      "5        92634           9.2634       48.6        20.0     0.6   \n",
      "6        89246           8.9246       30.8        15.0    -2.6   \n",
      "7       195145          19.5145       10.8        20.0    -3.5   \n",
      "8       297342          29.7342       20.2        14.0     0.6   \n",
      "9       264298          26.4298       20.4        26.0     6.0   \n",
      "10      134342          13.4342       17.3        31.0     4.2   \n",
      "11      147600          14.7600       50.3         9.0    -1.0   \n",
      "12       77370           7.7370       34.2        10.0    -1.2   \n",
      "13      170822          17.0822       33.7        32.0     2.4   \n",
      "14       40642           4.0642       45.7        15.0     0.0   \n",
      "15       71359           7.1359       22.3         8.0     1.6   \n",
      "16      104923          10.4923       48.1        21.0     6.9   \n",
      "17      190317          19.0317       19.4        26.0     1.9   \n",
      "18      215512          21.5512       71.9        26.0     5.8   \n",
      "19      178105          17.8105       45.1        25.0     2.3   \n",
      "20      131025          13.1025       31.3        19.0    -1.8   \n",
      "21      149844          14.9844       24.9        22.0     6.4   \n",
      "22      170556          17.0556       27.2        30.0     4.6   \n",
      "23      280969          28.0969       17.7        14.0     2.9   \n",
      "24      114233          11.4233       29.0        30.0     1.3   \n",
      "25       74502           7.4502       21.4        15.0    -3.2   \n",
      "26      475112          47.5112       28.6        12.0     NaN   \n",
      "27       97167           9.7167       29.3        10.0     0.2   \n",
      "28      114572          11.4572       17.5        20.0     5.2   \n",
      "29      436348          43.6348       16.5        10.0    -0.7   \n",
      "..         ...              ...        ...         ...     ...   \n",
      "69      100231          10.0231       24.1        15.0     1.9   \n",
      "70       95831           9.5831       21.2        32.0     3.2   \n",
      "71      229711          22.9711        9.8        22.0     5.3   \n",
      "72       74308           7.4308       29.9         7.0     1.8   \n",
      "73      259506          25.9506        7.2        40.0    17.4   \n",
      "74      159573          15.9573       19.4        15.0    -2.1   \n",
      "75      147176          14.7176       41.1        12.0    -1.7   \n",
      "76      205732          20.5732       11.2        12.0    -0.2   \n",
      "77      215783          21.5783       21.2        20.0     1.1   \n",
      "78      116710          11.6710       42.8        20.0    12.9   \n",
      "79      359112          35.9112        9.4        36.0     4.0   \n",
      "80      189959          18.9959       61.7        22.0    -2.1   \n",
      "81      133198          13.3198       19.4        22.0    -2.0   \n",
      "82      242821          24.2821        6.6        21.0     1.6   \n",
      "83      142811          14.2811       15.9        20.0    -1.6   \n",
      "84      200498          20.0498       18.8        36.0    11.0   \n",
      "85      199065          19.9065       13.2        20.0     7.8   \n",
      "86       93648           9.3648       34.5         8.0    -0.7   \n",
      "87      163001          16.3001       22.1        50.0     8.0   \n",
      "88      436348          43.6348       22.1        15.0     1.3   \n",
      "89      124478          12.4478       71.9        22.0     4.6   \n",
      "90      168276          16.8276       31.9        26.0     5.9   \n",
      "91      114157          11.4157       44.6        38.0    14.6   \n",
      "92      130088          13.0088       28.6        19.0    -0.2   \n",
      "93      152624          15.2624       24.0        19.0    23.1   \n",
      "94      174232          17.4232       13.8        25.0     4.7   \n",
      "95      196515          19.6515       29.9        16.0     1.8   \n",
      "96      232714          23.2714        9.9        21.0     0.2   \n",
      "97      245920          24.5920       22.6        10.0     0.3   \n",
      "98      130953          13.0953       13.0        24.0     5.2   \n",
      "\n",
      "              Name    County  \n",
      "0         Abington  Montgome  \n",
      "1           Ambler  Montgome  \n",
      "2            Aston  Delaware  \n",
      "3         Bensalem     Bucks  \n",
      "4       Bristol B.     Bucks  \n",
      "5       Bristol T.     Bucks  \n",
      "6       Brookhaven  Delaware  \n",
      "7       Bryn Athyn  Montgome  \n",
      "8        Bryn Mawr  Montgome  \n",
      "9       Buckingham     Bucks  \n",
      "10        Chalfont     Bucks  \n",
      "11      Cheltenham  Montgome  \n",
      "12         Clifton  Delaware  \n",
      "13    Collegeville  Montgome  \n",
      "14      Darby Bor.  Delaware  \n",
      "15      Darby Town  Delaware  \n",
      "16     Downingtown   Chester  \n",
      "17      Doylestown     Bucks  \n",
      "18     E. Bradford   Chester  \n",
      "19       E. Goshen   Chester  \n",
      "20     E. Norriton  Montgome  \n",
      "21     E. Pikeland   Chester  \n",
      "22    E. Whiteland   Chester  \n",
      "23        Easttown   Chester  \n",
      "24      Falls Town     Bucks  \n",
      "25       Follcroft  Delaware  \n",
      "26        Gladwyne  Montgome  \n",
      "27       Glenolden  Delaware  \n",
      "28         Hatboro  Montgome  \n",
      "29       Haverford  Delaware  \n",
      "..             ...       ...  \n",
      "69     Ridley Town  Delaware  \n",
      "70      Royersford  Montgome  \n",
      "71      Schuylkill   Chester  \n",
      "72     Sharon Hill  Delaware  \n",
      "73        Solebury     Bucks  \n",
      "74     Springfield  Montgome  \n",
      "75     Springfield  Delaware  \n",
      "76      Swarthmore  Delaware  \n",
      "77       Tredyffin   Chester  \n",
      "78   U. Chichester  Delaware  \n",
      "79    U. Makefield     Bucks  \n",
      "80       U. Merion  Montgome  \n",
      "81     U. Moreland  Montgome  \n",
      "82   U. Providence  Delaware  \n",
      "83  U. Southampton     Bucks  \n",
      "84      U. Uwchlan   Chester  \n",
      "85     Upper Darby  Montgome  \n",
      "86     Upper Darby  Delaware  \n",
      "87      Uwchlan T.   Chester  \n",
      "88       Villanova  Montgome  \n",
      "89      W. Chester   Chester  \n",
      "90       W. Goshen   Chester  \n",
      "91    W. Whiteland   Chester  \n",
      "92      Warminster     Bucks  \n",
      "93      Warrington     Bucks  \n",
      "94        Westtown   Chester  \n",
      "95      Whitemarsh  Montgome  \n",
      "96      Willistown   Chester  \n",
      "97       Wynnewood  Montgome  \n",
      "98         Yardley     Bucks  \n",
      "\n",
      "[99 rows x 7 columns]\n"
     ]
    }
   ],
   "source": [
    "data = pd.read_csv(\"philly.csv\")\n",
    "data.head()\n",
    "print data"
   ]
  },
  {
   "cell_type": "markdown",
   "metadata": {},
   "source": [
    "<h3> Step 3 : Take the feature and the target </h3>"
   ]
  },
  {
   "cell_type": "code",
   "execution_count": 6,
   "metadata": {
    "collapsed": false
   },
   "outputs": [],
   "source": [
    "# Take the feature (Sq ft)\n",
    "dataX = data[\"CrimeRate\"]"
   ]
  },
  {
   "cell_type": "code",
   "execution_count": 7,
   "metadata": {
    "collapsed": false
   },
   "outputs": [],
   "source": [
    "# Take the target (Price)\n",
    "dataY = data[\"HousePrice\"]"
   ]
  },
  {
   "cell_type": "markdown",
   "metadata": {},
   "source": [
    "<h3>Step 4: Plot the data</h3>"
   ]
  },
  {
   "cell_type": "code",
   "execution_count": 10,
   "metadata": {
    "collapsed": false
   },
   "outputs": [
    {
     "data": {
      "image/png": "[encoded data removed]",
      "text/plain": [
       "<matplotlib.figure.Figure at 0xce29cc0>"
      ]
     },
     "metadata": {},
     "output_type": "display_data"
    }
   ],
   "source": [
    "plot = data.plot(kind='scatter', x='CrimeRate', y='HousePrice')\n",
    "plt.show()"
   ]
  },
  {
   "cell_type": "markdown",
   "metadata": {},
   "source": [
    "<h3>Step 5: Split the data</h3>"
   ]
  },
  {
   "cell_type": "markdown",
   "metadata": {},
   "source": [
    "From sckilearn documentation : Learning the parameters of a prediction function and testing it on the same data is a methodological mistake: a model that would just repeat the labels of the samples that it has just seen would have a perfect score but would fail to predict anything useful on yet-unseen data. This situation is called overfitting. To avoid it, it is common practice when performing a (supervised) machine learning experiment to hold out part of the available data as a test set X_test, y_test. Note that the word “experiment” is not intended to denote academic use only, because even in commercial settings machine learning usually starts out experimentally."
   ]
  },
  {
   "cell_type": "markdown",
   "metadata": {},
   "source": [
    "<p>Split the data into training set and testing set </p>"
   ]
  },
  {
   "cell_type": "code",
   "execution_count": 11,
   "metadata": {
    "collapsed": false
   },
   "outputs": [],
   "source": [
    "# Split the data into training/testing sets\n",
    "data_trainX = dataX[:-10]\n",
    "data_testX = dataX[90:]"
   ]
  },
  {
   "cell_type": "code",
   "execution_count": 12,
   "metadata": {
    "collapsed": false
   },
   "outputs": [],
   "source": [
    "# Split the data into training/testing targets\n",
    "data_trainY = dataY[:-10]\n",
    "data_testY = dataY[90:]"
   ]
  },
  {
   "cell_type": "markdown",
   "metadata": {},
   "source": [
    "<h3>Step 6: Create linear regression object and train the data set </h3>"
   ]
  },
  {
   "cell_type": "code",
   "execution_count": 23,
   "metadata": {
    "collapsed": true
   },
   "outputs": [],
   "source": [
    "model = linear_model.LinearRegression()"
   ]
  },
  {
   "cell_type": "code",
   "execution_count": 28,
   "metadata": {
    "collapsed": false
   },
   "outputs": [
    {
     "name": "stdout",
     "output_type": "stream",
     "text": [
      "LinearRegression(copy_X=True, fit_intercept=True, n_jobs=1, normalize=False)\n",
      "[-559.35338189]\n",
      "175251.845399\n"
     ]
    }
   ],
   "source": [
    "# Train the model using the training sets\n",
    "model.fit(data_trainX.reshape(-1, 1), data_trainY)\n",
    "print model\n",
    "print model.coef_\n",
    "print model.intercept_"
   ]
  },
  {
   "cell_type": "code",
   "execution_count": 54,
   "metadata": {
    "collapsed": false,
    "scrolled": true
   },
   "outputs": [
    {
     "name": "stdout",
     "output_type": "stream",
     "text": [
      "('Coefficients: \\n', array([-2422.97113193]), 228223.82095103385)\n",
      "Mean squared error: 7568608604.26\n",
      "Variance score: 0.06\n",
      "[ 6775824.51111378]\n"
     ]
    }
   ],
   "source": [
    "# The coefficients\n",
    "print('Coefficients: \\n', model.coef_, model.intercept_)\n",
    "\n",
    "# The mean squared error (Cost function)\n",
    "print(\"Mean squared error: %.2f\"\n",
    "      % np.mean((regr.predict(data_trainX.reshape(-1, 1)) - data_trainY) ** 2))\n",
    "\n",
    "# Explained variance score: 1 is perfect prediction\n",
    "print('Variance score: %.2f' % regr.score(data_trainX.reshape(-1, 1), data_trainY))\n",
    "\n",
    "#Test : \n",
    "result = model.coef_ + (model.intercept_ * 29.7)\n",
    "print result"
   ]
  },
  {
   "cell_type": "markdown",
   "metadata": {},
   "source": [
    "<h3>Step 7 : Plot the result</h3>"
   ]
  },
  {
   "cell_type": "code",
   "execution_count": 56,
   "metadata": {
    "collapsed": false,
    "scrolled": true
   },
   "outputs": [
    {
     "data": {
      "image/png": "[encoded data removed]",
      "text/plain": [
       "<matplotlib.figure.Figure at 0xe0ef0f0>"
      ]
     },
     "metadata": {},
     "output_type": "display_data"
    }
   ],
   "source": [
    "# Plot outputs\n",
    "plt.scatter(data_trainX.reshape(-1, 1), data_trainY,  color='black')\n",
    "plt.plot(data_trainX, regr.predict(data_trainX.reshape(-1, 1)), color='blue',\n",
    "         linewidth=3)\n",
    "\n",
    "plt.xticks(())\n",
    "plt.yticks(())\n",
    "\n",
    "plt.show()"
   ]
  },
  {
   "cell_type": "markdown",
   "metadata": {},
   "source": [
    "<h2> Improve our Model : Remove high-value outlier  </h2>"
   ]
  },
  {
   "cell_type": "markdown",
   "metadata": {},
   "source": [
    "<h3>Step 1: Remove High value outlier</h3>"
   ]
  },
  {
   "cell_type": "code",
   "execution_count": 39,
   "metadata": {
    "collapsed": false
   },
   "outputs": [
    {
     "name": "stdout",
     "output_type": "stream",
     "text": [
      "    HousePrice  HsPrc ($10,000)  CrimeRate  MilesPhila  PopChg  \\\n",
      "0       140463          14.0463       29.7        10.0    -1.0   \n",
      "1       113033          11.3033       24.1        18.0     4.0   \n",
      "2       124186          12.4186       19.5        25.0     8.0   \n",
      "3       110490          11.0490       49.4        25.0     2.7   \n",
      "4        79124           7.9124       54.1        19.0     3.9   \n",
      "5        92634           9.2634       48.6        20.0     0.6   \n",
      "6        89246           8.9246       30.8        15.0    -2.6   \n",
      "7       195145          19.5145       10.8        20.0    -3.5   \n",
      "8       297342          29.7342       20.2        14.0     0.6   \n",
      "9       264298          26.4298       20.4        26.0     6.0   \n",
      "10      134342          13.4342       17.3        31.0     4.2   \n",
      "11      147600          14.7600       50.3         9.0    -1.0   \n",
      "12       77370           7.7370       34.2        10.0    -1.2   \n",
      "13      170822          17.0822       33.7        32.0     2.4   \n",
      "14       40642           4.0642       45.7        15.0     0.0   \n",
      "15       71359           7.1359       22.3         8.0     1.6   \n",
      "16      104923          10.4923       48.1        21.0     6.9   \n",
      "17      190317          19.0317       19.4        26.0     1.9   \n",
      "18      215512          21.5512       71.9        26.0     5.8   \n",
      "19      178105          17.8105       45.1        25.0     2.3   \n",
      "20      131025          13.1025       31.3        19.0    -1.8   \n",
      "21      149844          14.9844       24.9        22.0     6.4   \n",
      "22      170556          17.0556       27.2        30.0     4.6   \n",
      "23      280969          28.0969       17.7        14.0     2.9   \n",
      "24      114233          11.4233       29.0        30.0     1.3   \n",
      "25       74502           7.4502       21.4        15.0    -3.2   \n",
      "26      475112          47.5112       28.6        12.0     NaN   \n",
      "27       97167           9.7167       29.3        10.0     0.2   \n",
      "28      114572          11.4572       17.5        20.0     5.2   \n",
      "29      436348          43.6348       16.5        10.0    -0.7   \n",
      "..         ...              ...        ...         ...     ...   \n",
      "69      100231          10.0231       24.1        15.0     1.9   \n",
      "70       95831           9.5831       21.2        32.0     3.2   \n",
      "71      229711          22.9711        9.8        22.0     5.3   \n",
      "72       74308           7.4308       29.9         7.0     1.8   \n",
      "73      259506          25.9506        7.2        40.0    17.4   \n",
      "74      159573          15.9573       19.4        15.0    -2.1   \n",
      "75      147176          14.7176       41.1        12.0    -1.7   \n",
      "76      205732          20.5732       11.2        12.0    -0.2   \n",
      "77      215783          21.5783       21.2        20.0     1.1   \n",
      "78      116710          11.6710       42.8        20.0    12.9   \n",
      "79      359112          35.9112        9.4        36.0     4.0   \n",
      "80      189959          18.9959       61.7        22.0    -2.1   \n",
      "81      133198          13.3198       19.4        22.0    -2.0   \n",
      "82      242821          24.2821        6.6        21.0     1.6   \n",
      "83      142811          14.2811       15.9        20.0    -1.6   \n",
      "84      200498          20.0498       18.8        36.0    11.0   \n",
      "85      199065          19.9065       13.2        20.0     7.8   \n",
      "86       93648           9.3648       34.5         8.0    -0.7   \n",
      "87      163001          16.3001       22.1        50.0     8.0   \n",
      "88      436348          43.6348       22.1        15.0     1.3   \n",
      "89      124478          12.4478       71.9        22.0     4.6   \n",
      "90      168276          16.8276       31.9        26.0     5.9   \n",
      "91      114157          11.4157       44.6        38.0    14.6   \n",
      "92      130088          13.0088       28.6        19.0    -0.2   \n",
      "93      152624          15.2624       24.0        19.0    23.1   \n",
      "94      174232          17.4232       13.8        25.0     4.7   \n",
      "95      196515          19.6515       29.9        16.0     1.8   \n",
      "96      232714          23.2714        9.9        21.0     0.2   \n",
      "97      245920          24.5920       22.6        10.0     0.3   \n",
      "98      130953          13.0953       13.0        24.0     5.2   \n",
      "\n",
      "              Name    County  \n",
      "0         Abington  Montgome  \n",
      "1           Ambler  Montgome  \n",
      "2            Aston  Delaware  \n",
      "3         Bensalem     Bucks  \n",
      "4       Bristol B.     Bucks  \n",
      "5       Bristol T.     Bucks  \n",
      "6       Brookhaven  Delaware  \n",
      "7       Bryn Athyn  Montgome  \n",
      "8        Bryn Mawr  Montgome  \n",
      "9       Buckingham     Bucks  \n",
      "10        Chalfont     Bucks  \n",
      "11      Cheltenham  Montgome  \n",
      "12         Clifton  Delaware  \n",
      "13    Collegeville  Montgome  \n",
      "14      Darby Bor.  Delaware  \n",
      "15      Darby Town  Delaware  \n",
      "16     Downingtown   Chester  \n",
      "17      Doylestown     Bucks  \n",
      "18     E. Bradford   Chester  \n",
      "19       E. Goshen   Chester  \n",
      "20     E. Norriton  Montgome  \n",
      "21     E. Pikeland   Chester  \n",
      "22    E. Whiteland   Chester  \n",
      "23        Easttown   Chester  \n",
      "24      Falls Town     Bucks  \n",
      "25       Follcroft  Delaware  \n",
      "26        Gladwyne  Montgome  \n",
      "27       Glenolden  Delaware  \n",
      "28         Hatboro  Montgome  \n",
      "29       Haverford  Delaware  \n",
      "..             ...       ...  \n",
      "69     Ridley Town  Delaware  \n",
      "70      Royersford  Montgome  \n",
      "71      Schuylkill   Chester  \n",
      "72     Sharon Hill  Delaware  \n",
      "73        Solebury     Bucks  \n",
      "74     Springfield  Montgome  \n",
      "75     Springfield  Delaware  \n",
      "76      Swarthmore  Delaware  \n",
      "77       Tredyffin   Chester  \n",
      "78   U. Chichester  Delaware  \n",
      "79    U. Makefield     Bucks  \n",
      "80       U. Merion  Montgome  \n",
      "81     U. Moreland  Montgome  \n",
      "82   U. Providence  Delaware  \n",
      "83  U. Southampton     Bucks  \n",
      "84      U. Uwchlan   Chester  \n",
      "85     Upper Darby  Montgome  \n",
      "86     Upper Darby  Delaware  \n",
      "87      Uwchlan T.   Chester  \n",
      "88       Villanova  Montgome  \n",
      "89      W. Chester   Chester  \n",
      "90       W. Goshen   Chester  \n",
      "91    W. Whiteland   Chester  \n",
      "92      Warminster     Bucks  \n",
      "93      Warrington     Bucks  \n",
      "94        Westtown   Chester  \n",
      "95      Whitemarsh  Montgome  \n",
      "96      Willistown   Chester  \n",
      "97       Wynnewood  Montgome  \n",
      "98         Yardley     Bucks  \n",
      "\n",
      "[98 rows x 7 columns]\n"
     ]
    }
   ],
   "source": [
    "data_noOutlier = pd.read_csv(\"philly.csv\")\n",
    "data_noOutlier = data[data['MilesPhila'] != 0.0] \n",
    "data_noOutlier.head()\n",
    "print data_noOutlier"
   ]
  },
  {
   "cell_type": "markdown",
   "metadata": {},
   "source": [
    "<h3> Step 2 : Take the feature and the target </h3>"
   ]
  },
  {
   "cell_type": "code",
   "execution_count": 40,
   "metadata": {
    "collapsed": false
   },
   "outputs": [],
   "source": [
    "# Take the feature (Sq ft)\n",
    "dataXNoOutlier = data_noOutlier[\"CrimeRate\"]"
   ]
  },
  {
   "cell_type": "code",
   "execution_count": 41,
   "metadata": {
    "collapsed": false
   },
   "outputs": [],
   "source": [
    "# Take the target (Price)\n",
    "dataYNoOutlier = data_noOutlier[\"HousePrice\"]"
   ]
  },
  {
   "cell_type": "markdown",
   "metadata": {},
   "source": [
    "<h3>Step 3: Split the data</h3>"
   ]
  },
  {
   "cell_type": "markdown",
   "metadata": {},
   "source": [
    "From sckilearn documentation : Learning the parameters of a prediction function and testing it on the same data is a methodological mistake: a model that would just repeat the labels of the samples that it has just seen would have a perfect score but would fail to predict anything useful on yet-unseen data. This situation is called overfitting. To avoid it, it is common practice when performing a (supervised) machine learning experiment to hold out part of the available data as a test set X_test, y_test. Note that the word “experiment” is not intended to denote academic use only, because even in commercial settings machine learning usually starts out experimentally."
   ]
  },
  {
   "cell_type": "markdown",
   "metadata": {},
   "source": [
    "<p>Split the data into training set and testing set </p>"
   ]
  },
  {
   "cell_type": "code",
   "execution_count": 49,
   "metadata": {
    "collapsed": false
   },
   "outputs": [],
   "source": [
    "# Split the data with no outliers into training/testing sets\n",
    "data_trainXNO = dataX[:-10]\n",
    "data_testXNO = dataX[90:]"
   ]
  },
  {
   "cell_type": "code",
   "execution_count": 50,
   "metadata": {
    "collapsed": false
   },
   "outputs": [],
   "source": [
    "# Split the data with no outliers into training/testing targets\n",
    "data_trainYNO = dataY[:-10]\n",
    "data_testYNO = dataY[90:]"
   ]
  },
  {
   "cell_type": "markdown",
   "metadata": {},
   "source": [
    "<h3>Step 4: Create linear regression object and train the data set </h3>"
   ]
  },
  {
   "cell_type": "code",
   "execution_count": 51,
   "metadata": {
    "collapsed": true
   },
   "outputs": [],
   "source": [
    "model = linear_model.LinearRegression()"
   ]
  },
  {
   "cell_type": "code",
   "execution_count": 52,
   "metadata": {
    "collapsed": false
   },
   "outputs": [
    {
     "name": "stdout",
     "output_type": "stream",
     "text": [
      "LinearRegression(copy_X=True, fit_intercept=True, n_jobs=1, normalize=False)\n",
      "[-2422.97113193]\n",
      "228223.820951\n"
     ]
    }
   ],
   "source": [
    "# Train the model using the training sets\n",
    "model.fit(data_trainXNO.reshape(-1, 1), data_trainYNO)\n",
    "print model\n",
    "print model.coef_\n",
    "print model.intercept_"
   ]
  },
  {
   "cell_type": "code",
   "execution_count": 53,
   "metadata": {
    "collapsed": false,
    "scrolled": false
   },
   "outputs": [
    {
     "name": "stdout",
     "output_type": "stream",
     "text": [
      "('Coefficients: \\n', array([-2422.97113193]), 228223.82095103385)\n",
      "Mean squared error: 7474986132.96\n",
      "Variance score: 0.08\n",
      "[ 6775824.51111378]\n"
     ]
    }
   ],
   "source": [
    "# The coefficients\n",
    "print('Coefficients: \\n', model.coef_, model.intercept_)\n",
    "\n",
    "# The mean squared error (Cost function)\n",
    "print(\"Mean squared error: %.2f\"\n",
    "      % np.mean((regr.predict(data_trainXNO.reshape(-1, 1)) - data_trainYNO) ** 2))\n",
    "\n",
    "# Explained variance score: 1 is perfect prediction\n",
    "print('Variance score: %.2f' % regr.score(data_trainXNO.reshape(-1, 1), data_trainYNO))\n",
    "\n",
    "#Test : \n",
    "result = model.coef_ + (model.intercept_ * 29.7)\n",
    "print result"
   ]
  },
  {
   "cell_type": "markdown",
   "metadata": {},
   "source": [
    "<h3>Step 4 : Plot the result</h3>"
   ]
  },
  {
   "cell_type": "code",
   "execution_count": 57,
   "metadata": {
    "collapsed": false,
    "scrolled": true
   },
   "outputs": [
    {
     "data": {
      "image/png": "[encoded data removed]",
      "text/plain": [
       "<matplotlib.figure.Figure at 0xe300518>"
      ]
     },
     "metadata": {},
     "output_type": "display_data"
    }
   ],
   "source": [
    "# Plot outputs\n",
    "plt.scatter(data_trainXNO.reshape(-1, 1), data_trainYNO,  color='black')\n",
    "plt.plot(data_trainXNO, regr.predict(data_trainXNO.reshape(-1, 1)), color='blue',\n",
    "         linewidth=3)\n",
    "\n",
    "plt.xticks(())\n",
    "plt.yticks(())\n",
    "\n",
    "plt.show()"
   ]
  }
 ],
 "metadata": {
  "anaconda-cloud": {},
  "kernelspec": {
   "display_name": "Python [conda env:py27]",
   "language": "python",
   "name": "conda-env-py27-py"
  },
  "language_info": {
   "codemirror_mode": {
    "name": "ipython",
    "version": 2
   },
   "file_extension": ".py",
   "mimetype": "text/x-python",
   "name": "python",
   "nbconvert_exporter": "python",
   "pygments_lexer": "ipython2",
   "version": "2.7.12"
  }
 },
 "nbformat": 4,
 "nbformat_minor": 1
}
